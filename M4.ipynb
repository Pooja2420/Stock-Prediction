{
 "cells": [
  {
   "cell_type": "markdown",
   "metadata": {},
   "source": [
    "# Module 4 : Performance measurements of Random Forest and Support Vector Machines"
   ]
  },
  {
   "cell_type": "code",
   "execution_count": 14,
   "metadata": {},
   "outputs": [],
   "source": [
    "#import library packages\n",
    "import pandas as p\n",
    "import matplotlib.pyplot as plt\n",
    "import seaborn as s\n",
    "import numpy as n"
   ]
  },
  {
   "cell_type": "code",
   "execution_count": 15,
   "metadata": {},
   "outputs": [],
   "source": [
    "#Load given dataset\n",
    "data = p.read_csv(\"combined_stock_data.csv\")"
   ]
  },
  {
   "cell_type": "code",
   "execution_count": 16,
   "metadata": {},
   "outputs": [],
   "source": [
    "data1 = p.read_csv(\"upload_DJIA_table.csv\")"
   ]
  },
  {
   "cell_type": "code",
   "execution_count": 17,
   "metadata": {},
   "outputs": [],
   "source": [
    "import warnings\n",
    "warnings.filterwarnings('ignore')"
   ]
  },
  {
   "cell_type": "code",
   "execution_count": 18,
   "metadata": {},
   "outputs": [],
   "source": [
    "df=p.concat([data1,data],axis=1)"
   ]
  },
  {
   "cell_type": "code",
   "execution_count": 19,
   "metadata": {},
   "outputs": [],
   "source": [
    "df=df.dropna()"
   ]
  },
  {
   "cell_type": "code",
   "execution_count": 20,
   "metadata": {},
   "outputs": [
    {
     "data": {
      "text/plain": [
       "Index(['Date', 'Open', 'High', 'Low', 'Close', 'Volume', 'Adj Close',\n",
       "       'Unnamed: 0', 'Date', 'Label', 'Top1', 'Top2', 'Top3', 'Top4', 'Top5',\n",
       "       'Top6', 'Top7', 'Top8', 'Top9', 'Top10', 'Top11', 'Top12', 'Top13',\n",
       "       'Top14', 'Top15', 'Top16', 'Top17', 'Top18', 'Top19', 'Top20', 'Top21',\n",
       "       'Top22', 'Top23', 'Top24', 'Top25', 'Para', 'Subjectivity',\n",
       "       'Objectivity', 'Positive', 'Neutral', 'Negative'],\n",
       "      dtype='object')"
      ]
     },
     "execution_count": 20,
     "metadata": {},
     "output_type": "execute_result"
    }
   ],
   "source": [
    "df.columns"
   ]
  },
  {
   "cell_type": "code",
   "execution_count": 21,
   "metadata": {},
   "outputs": [],
   "source": [
    "from sklearn.preprocessing import LabelEncoder\n",
    "var_mod = ['Open', 'High', 'Low', 'Close', 'Volume', 'Adj Close','Label', 'Top1', 'Top2', 'Top3', 'Top4', 'Top5',\n",
    "       'Top6', 'Top7', 'Top8', 'Top9', 'Top10', 'Top11', 'Top12', 'Top13',\n",
    "       'Top14', 'Top15', 'Top16', 'Top17', 'Top18', 'Top19', 'Top20', 'Top21',\n",
    "       'Top22', 'Top23', 'Top24', 'Top25', 'Subjectivity',\n",
    "       'Objectivity', 'Positive', 'Neutral', 'Negative']\n",
    "le = LabelEncoder()\n",
    "for i in var_mod:\n",
    "    df[i] = le.fit_transform(df[i]).astype(str)"
   ]
  },
  {
   "cell_type": "code",
   "execution_count": 22,
   "metadata": {},
   "outputs": [],
   "source": [
    "#According to the cross-validated MCC scores, the random forest is the best-performing model, so now let's evaluate its performance on the test set.\n",
    "from sklearn.metrics import confusion_matrix, classification_report, matthews_corrcoef, cohen_kappa_score, accuracy_score, average_precision_score, roc_auc_score"
   ]
  },
  {
   "cell_type": "code",
   "execution_count": 24,
   "metadata": {},
   "outputs": [],
   "source": [
    "X=df[['Open', 'High', 'Low', 'Close', 'Volume', 'Adj Close','Subjectivity','Objectivity', 'Positive', 'Neutral', 'Negative']]\n",
    "#Response variable\n",
    "y = df.loc[:,'Label']    "
   ]
  },
  {
   "cell_type": "code",
   "execution_count": 25,
   "metadata": {},
   "outputs": [
    {
     "data": {
      "text/html": [
       "<div>\n",
       "<style scoped>\n",
       "    .dataframe tbody tr th:only-of-type {\n",
       "        vertical-align: middle;\n",
       "    }\n",
       "\n",
       "    .dataframe tbody tr th {\n",
       "        vertical-align: top;\n",
       "    }\n",
       "\n",
       "    .dataframe thead th {\n",
       "        text-align: right;\n",
       "    }\n",
       "</style>\n",
       "<table border=\"1\" class=\"dataframe\">\n",
       "  <thead>\n",
       "    <tr style=\"text-align: right;\">\n",
       "      <th></th>\n",
       "      <th>Open</th>\n",
       "      <th>High</th>\n",
       "      <th>Low</th>\n",
       "      <th>Close</th>\n",
       "      <th>Volume</th>\n",
       "      <th>Adj Close</th>\n",
       "      <th>Subjectivity</th>\n",
       "      <th>Objectivity</th>\n",
       "      <th>Positive</th>\n",
       "      <th>Neutral</th>\n",
       "      <th>Negative</th>\n",
       "    </tr>\n",
       "  </thead>\n",
       "  <tbody>\n",
       "    <tr>\n",
       "      <th>0</th>\n",
       "      <td>1881</td>\n",
       "      <td>1884</td>\n",
       "      <td>1907</td>\n",
       "      <td>1886</td>\n",
       "      <td>209</td>\n",
       "      <td>1886</td>\n",
       "      <td>95</td>\n",
       "      <td>25</td>\n",
       "      <td>0</td>\n",
       "      <td>25</td>\n",
       "      <td>99</td>\n",
       "    </tr>\n",
       "    <tr>\n",
       "      <th>1</th>\n",
       "      <td>1779</td>\n",
       "      <td>1853</td>\n",
       "      <td>1823</td>\n",
       "      <td>1882</td>\n",
       "      <td>902</td>\n",
       "      <td>1882</td>\n",
       "      <td>120</td>\n",
       "      <td>0</td>\n",
       "      <td>96</td>\n",
       "      <td>0</td>\n",
       "      <td>0</td>\n",
       "    </tr>\n",
       "    <tr>\n",
       "      <th>2</th>\n",
       "      <td>1689</td>\n",
       "      <td>1735</td>\n",
       "      <td>1711</td>\n",
       "      <td>1767</td>\n",
       "      <td>560</td>\n",
       "      <td>1767</td>\n",
       "      <td>111</td>\n",
       "      <td>9</td>\n",
       "      <td>0</td>\n",
       "      <td>9</td>\n",
       "      <td>106</td>\n",
       "    </tr>\n",
       "    <tr>\n",
       "      <th>3</th>\n",
       "      <td>1650</td>\n",
       "      <td>1663</td>\n",
       "      <td>1663</td>\n",
       "      <td>1676</td>\n",
       "      <td>634</td>\n",
       "      <td>1676</td>\n",
       "      <td>64</td>\n",
       "      <td>56</td>\n",
       "      <td>0</td>\n",
       "      <td>56</td>\n",
       "      <td>84</td>\n",
       "    </tr>\n",
       "    <tr>\n",
       "      <th>4</th>\n",
       "      <td>1669</td>\n",
       "      <td>1654</td>\n",
       "      <td>1638</td>\n",
       "      <td>1636</td>\n",
       "      <td>965</td>\n",
       "      <td>1636</td>\n",
       "      <td>42</td>\n",
       "      <td>78</td>\n",
       "      <td>36</td>\n",
       "      <td>78</td>\n",
       "      <td>34</td>\n",
       "    </tr>\n",
       "    <tr>\n",
       "      <th>...</th>\n",
       "      <td>...</td>\n",
       "      <td>...</td>\n",
       "      <td>...</td>\n",
       "      <td>...</td>\n",
       "      <td>...</td>\n",
       "      <td>...</td>\n",
       "      <td>...</td>\n",
       "      <td>...</td>\n",
       "      <td>...</td>\n",
       "      <td>...</td>\n",
       "      <td>...</td>\n",
       "    </tr>\n",
       "    <tr>\n",
       "      <th>1984</th>\n",
       "      <td>636</td>\n",
       "      <td>658</td>\n",
       "      <td>639</td>\n",
       "      <td>653</td>\n",
       "      <td>1162</td>\n",
       "      <td>653</td>\n",
       "      <td>71</td>\n",
       "      <td>49</td>\n",
       "      <td>76</td>\n",
       "      <td>49</td>\n",
       "      <td>13</td>\n",
       "    </tr>\n",
       "    <tr>\n",
       "      <th>1985</th>\n",
       "      <td>657</td>\n",
       "      <td>644</td>\n",
       "      <td>641</td>\n",
       "      <td>635</td>\n",
       "      <td>1331</td>\n",
       "      <td>635</td>\n",
       "      <td>54</td>\n",
       "      <td>66</td>\n",
       "      <td>33</td>\n",
       "      <td>66</td>\n",
       "      <td>50</td>\n",
       "    </tr>\n",
       "    <tr>\n",
       "      <th>1986</th>\n",
       "      <td>677</td>\n",
       "      <td>665</td>\n",
       "      <td>665</td>\n",
       "      <td>656</td>\n",
       "      <td>1273</td>\n",
       "      <td>656</td>\n",
       "      <td>90</td>\n",
       "      <td>30</td>\n",
       "      <td>42</td>\n",
       "      <td>30</td>\n",
       "      <td>77</td>\n",
       "    </tr>\n",
       "    <tr>\n",
       "      <th>1987</th>\n",
       "      <td>670</td>\n",
       "      <td>676</td>\n",
       "      <td>674</td>\n",
       "      <td>675</td>\n",
       "      <td>1335</td>\n",
       "      <td>675</td>\n",
       "      <td>113</td>\n",
       "      <td>7</td>\n",
       "      <td>82</td>\n",
       "      <td>7</td>\n",
       "      <td>83</td>\n",
       "    </tr>\n",
       "    <tr>\n",
       "      <th>1988</th>\n",
       "      <td>613</td>\n",
       "      <td>663</td>\n",
       "      <td>624</td>\n",
       "      <td>669</td>\n",
       "      <td>1494</td>\n",
       "      <td>669</td>\n",
       "      <td>108</td>\n",
       "      <td>12</td>\n",
       "      <td>42</td>\n",
       "      <td>12</td>\n",
       "      <td>97</td>\n",
       "    </tr>\n",
       "  </tbody>\n",
       "</table>\n",
       "<p>1986 rows × 11 columns</p>\n",
       "</div>"
      ],
      "text/plain": [
       "      Open  High   Low Close Volume Adj Close Subjectivity Objectivity  \\\n",
       "0     1881  1884  1907  1886    209      1886           95          25   \n",
       "1     1779  1853  1823  1882    902      1882          120           0   \n",
       "2     1689  1735  1711  1767    560      1767          111           9   \n",
       "3     1650  1663  1663  1676    634      1676           64          56   \n",
       "4     1669  1654  1638  1636    965      1636           42          78   \n",
       "...    ...   ...   ...   ...    ...       ...          ...         ...   \n",
       "1984   636   658   639   653   1162       653           71          49   \n",
       "1985   657   644   641   635   1331       635           54          66   \n",
       "1986   677   665   665   656   1273       656           90          30   \n",
       "1987   670   676   674   675   1335       675          113           7   \n",
       "1988   613   663   624   669   1494       669          108          12   \n",
       "\n",
       "     Positive Neutral Negative  \n",
       "0           0      25       99  \n",
       "1          96       0        0  \n",
       "2           0       9      106  \n",
       "3           0      56       84  \n",
       "4          36      78       34  \n",
       "...       ...     ...      ...  \n",
       "1984       76      49       13  \n",
       "1985       33      66       50  \n",
       "1986       42      30       77  \n",
       "1987       82       7       83  \n",
       "1988       42      12       97  \n",
       "\n",
       "[1986 rows x 11 columns]"
      ]
     },
     "execution_count": 25,
     "metadata": {},
     "output_type": "execute_result"
    }
   ],
   "source": [
    "X"
   ]
  },
  {
   "cell_type": "code",
   "execution_count": 26,
   "metadata": {},
   "outputs": [],
   "source": [
    "del df \n",
    "#We'll use a test size of 30%. We also stratify the split on the response variable, which is very important to do because there are so few fraudulent transactions.\n",
    "from sklearn.model_selection import train_test_split\n",
    "X_train, X_test, y_train, y_test = train_test_split(X, y, test_size=0.3, random_state=1, stratify=y)"
   ]
  },
  {
   "cell_type": "code",
   "execution_count": 27,
   "metadata": {},
   "outputs": [],
   "source": [
    "#for our convienient we delete X,y variable for differentiate confusion\n",
    "#del X, y"
   ]
  },
  {
   "cell_type": "code",
   "execution_count": 28,
   "metadata": {},
   "outputs": [],
   "source": [
    "# Prevent view warnings\n",
    "X_train.is_copy = False\n",
    "X_test.is_copy = False"
   ]
  },
  {
   "cell_type": "markdown",
   "metadata": {},
   "source": [
    "Random Forest:"
   ]
  },
  {
   "cell_type": "code",
   "execution_count": 29,
   "metadata": {},
   "outputs": [
    {
     "name": "stdout",
     "output_type": "stream",
     "text": [
      "\n",
      "Classification report of Random Forest Results:\n",
      "\n",
      "              precision    recall  f1-score   support\n",
      "\n",
      "           0       0.66      0.63      0.64       277\n",
      "           1       0.69      0.71      0.70       319\n",
      "\n",
      "    accuracy                           0.67       596\n",
      "   macro avg       0.67      0.67      0.67       596\n",
      "weighted avg       0.67      0.67      0.67       596\n",
      "\n",
      "Accuracy result of Random Forest is: 67.4496644295302\n",
      "\n",
      "Confusion Matrix result of Random Forest is:\n",
      " [[175 102]\n",
      " [ 92 227]]\n",
      "\n",
      "Sensitivity :  0.631768953068592\n",
      "\n",
      "Specificity :  0.7115987460815048\n",
      "\n"
     ]
    }
   ],
   "source": [
    "from sklearn.ensemble import RandomForestClassifier\n",
    "rfc = RandomForestClassifier()\n",
    "\n",
    "rfc.fit(X_train,y_train)\n",
    "\n",
    "predictR = rfc.predict(X_test)\n",
    "\n",
    "print(\"\")\n",
    "print('Classification report of Random Forest Results:')\n",
    "print(\"\")\n",
    "\n",
    "print(classification_report(y_test,predictR))\n",
    "x = (accuracy_score(y_test,predictR)*100)\n",
    "\n",
    "print('Accuracy result of Random Forest is:', x)\n",
    "print(\"\")\n",
    "cm1=confusion_matrix(y_test,predictR)\n",
    "print('Confusion Matrix result of Random Forest is:\\n',cm1)\n",
    "print(\"\")\n",
    "sensitivity1 = cm1[0,0]/(cm1[0,0]+cm1[0,1])\n",
    "print('Sensitivity : ', sensitivity1 )\n",
    "print(\"\")\n",
    "specificity1 = cm1[1,1]/(cm1[1,0]+cm1[1,1])\n",
    "print('Specificity : ', specificity1)\n",
    "print(\"\")\n"
   ]
  },
  {
   "cell_type": "code",
   "execution_count": 30,
   "metadata": {},
   "outputs": [
    {
     "name": "stdout",
     "output_type": "stream",
     "text": [
      "True Positive : 227\n",
      "True Negative : 175\n",
      "False Positive : 102\n",
      "False Negative : 92\n",
      "\n",
      "True Positive Rate : 0.7115987460815048\n",
      "True Negative Rate : 0.631768953068592\n",
      "False Positive Rate : 0.36823104693140796\n",
      "False Negative Rate : 0.2884012539184953\n",
      "\n",
      "Positive Predictive Value : 0.6899696048632219\n",
      "Negative predictive value : 0.6554307116104869\n"
     ]
    }
   ],
   "source": [
    "TN = cm1[0][0]\n",
    "FN = cm1[1][0]\n",
    "TP = cm1[1][1]\n",
    "FP = cm1[0][1]\n",
    "print(\"True Positive :\",TP)\n",
    "print(\"True Negative :\",TN)\n",
    "print(\"False Positive :\",FP)\n",
    "print(\"False Negative :\",FN)\n",
    "print(\"\")\n",
    "TPR = TP/(TP+FN)\n",
    "TNR = TN/(TN+FP)\n",
    "FPR = FP/(FP+TN)\n",
    "FNR = FN/(TP+FN)\n",
    "print(\"True Positive Rate :\",TPR)\n",
    "print(\"True Negative Rate :\",TNR)\n",
    "print(\"False Positive Rate :\",FPR)\n",
    "print(\"False Negative Rate :\",FNR)\n",
    "print(\"\")\n",
    "PPV = TP/(TP+FP)\n",
    "NPV = TN/(TN+FN)\n",
    "print(\"Positive Predictive Value :\",PPV)\n",
    "print(\"Negative predictive value :\",NPV)"
   ]
  },
  {
   "cell_type": "markdown",
   "metadata": {},
   "source": [
    "Support Vector Machines:"
   ]
  },
  {
   "cell_type": "code",
   "execution_count": 31,
   "metadata": {},
   "outputs": [
    {
     "name": "stdout",
     "output_type": "stream",
     "text": [
      "\n",
      "Classification report of Support Vector Machines Results:\n",
      "\n",
      "              precision    recall  f1-score   support\n",
      "\n",
      "           0       0.62      0.18      0.28       277\n",
      "           1       0.56      0.90      0.69       319\n",
      "\n",
      "    accuracy                           0.57       596\n",
      "   macro avg       0.59      0.54      0.48       596\n",
      "weighted avg       0.59      0.57      0.50       596\n",
      "\n",
      "Accuracy result of Support Vector Machines is: 56.711409395973156\n",
      "\n",
      "Confusion Matrix result of Support Vector Machines is:\n",
      " [[ 50 227]\n",
      " [ 31 288]]\n",
      "\n",
      "Sensitivity :  0.18050541516245489\n",
      "\n",
      "Specificity :  0.9028213166144201\n",
      "\n"
     ]
    }
   ],
   "source": [
    "from sklearn.svm import SVC\n",
    "s = SVC()\n",
    "\n",
    "s.fit(X_train,y_train)\n",
    "\n",
    "predicts = s.predict(X_test)\n",
    "\n",
    "print(\"\")\n",
    "print('Classification report of Support Vector Machines Results:')\n",
    "print(\"\")\n",
    "\n",
    "print(classification_report(y_test,predicts))\n",
    "x = (accuracy_score(y_test,predicts)*100)\n",
    "\n",
    "print('Accuracy result of Support Vector Machines is:', x)\n",
    "print(\"\")\n",
    "cm2=confusion_matrix(y_test,predicts)\n",
    "print('Confusion Matrix result of Support Vector Machines is:\\n',cm2)\n",
    "print(\"\")\n",
    "sensitivity1 = cm2[0,0]/(cm2[0,0]+cm2[0,1])\n",
    "print('Sensitivity : ', sensitivity1 )\n",
    "print(\"\")\n",
    "specificity1 = cm2[1,1]/(cm2[1,0]+cm2[1,1])\n",
    "print('Specificity : ', specificity1)\n",
    "print(\"\")\n"
   ]
  },
  {
   "cell_type": "code",
   "execution_count": 32,
   "metadata": {},
   "outputs": [
    {
     "name": "stdout",
     "output_type": "stream",
     "text": [
      "True Positive : 288\n",
      "True Negative : 50\n",
      "False Positive : 227\n",
      "False Negative : 31\n",
      "\n",
      "True Positive Rate : 0.9028213166144201\n",
      "True Negative Rate : 0.18050541516245489\n",
      "False Positive Rate : 0.8194945848375451\n",
      "False Negative Rate : 0.09717868338557993\n",
      "\n",
      "Positive Predictive Value : 0.5592233009708738\n",
      "Negative predictive value : 0.6172839506172839\n"
     ]
    }
   ],
   "source": [
    "TN = cm2[0][0]\n",
    "FN = cm2[1][0]\n",
    "TP = cm2[1][1]\n",
    "FP = cm2[0][1]\n",
    "print(\"True Positive :\",TP)\n",
    "print(\"True Negative :\",TN)\n",
    "print(\"False Positive :\",FP)\n",
    "print(\"False Negative :\",FN)\n",
    "print(\"\")\n",
    "TPR = TP/(TP+FN)\n",
    "TNR = TN/(TN+FP)\n",
    "FPR = FP/(FP+TN)\n",
    "FNR = FN/(TP+FN)\n",
    "print(\"True Positive Rate :\",TPR)\n",
    "print(\"True Negative Rate :\",TNR)\n",
    "print(\"False Positive Rate :\",FPR)\n",
    "print(\"False Negative Rate :\",FNR)\n",
    "print(\"\")\n",
    "PPV = TP/(TP+FP)\n",
    "NPV = TN/(TN+FN)\n",
    "print(\"Positive Predictive Value :\",PPV)\n",
    "print(\"Negative predictive value :\",NPV)"
   ]
  },
  {
   "cell_type": "code",
   "execution_count": null,
   "metadata": {},
   "outputs": [],
   "source": []
  },
  {
   "cell_type": "code",
   "execution_count": null,
   "metadata": {},
   "outputs": [],
   "source": []
  },
  {
   "cell_type": "code",
   "execution_count": null,
   "metadata": {},
   "outputs": [],
   "source": []
  },
  {
   "cell_type": "code",
   "execution_count": null,
   "metadata": {},
   "outputs": [],
   "source": []
  }
 ],
 "metadata": {
  "kernelspec": {
   "display_name": "Python 3",
   "language": "python",
   "name": "python3"
  },
  "language_info": {
   "codemirror_mode": {
    "name": "ipython",
    "version": 3
   },
   "file_extension": ".py",
   "mimetype": "text/x-python",
   "name": "python",
   "nbconvert_exporter": "python",
   "pygments_lexer": "ipython3",
   "version": "3.8.3"
  }
 },
 "nbformat": 4,
 "nbformat_minor": 2
}
