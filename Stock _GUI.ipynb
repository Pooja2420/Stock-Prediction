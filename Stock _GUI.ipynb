{
 "cells": [
  {
   "cell_type": "code",
   "execution_count": 692,
   "metadata": {},
   "outputs": [],
   "source": [
    "from tkinter import *\n",
    "import numpy as np \n",
    "import pandas as pd"
   ]
  },
  {
   "cell_type": "code",
   "execution_count": 693,
   "metadata": {},
   "outputs": [],
   "source": [
    "import warnings \n",
    "warnings.filterwarnings('ignore')\n",
    "import joblib"
   ]
  },
  {
   "cell_type": "code",
   "execution_count": 694,
   "metadata": {},
   "outputs": [],
   "source": [
    "import tkinter as tk"
   ]
  },
  {
   "cell_type": "code",
   "execution_count": 695,
   "metadata": {},
   "outputs": [
    {
     "data": {
      "text/plain": [
       "''"
      ]
     },
     "execution_count": 695,
     "metadata": {},
     "output_type": "execute_result"
    }
   ],
   "source": [
    "\n",
    "root = Tk()\n",
    "root.title(\"STOCK PRICE CLASSIFICATION USING MACHINE LEARNING TECHNIQUE\")\n",
    "#root.configure(background='black')"
   ]
  },
  {
   "cell_type": "code",
   "execution_count": 696,
   "metadata": {},
   "outputs": [],
   "source": [
    "\n",
    "canvas = Canvas(root,width=1920,height=1200)\n",
    "canvas.pack()\n",
    "# photo = tk.PhotoImage(file ='1.png')\n",
    "# canvas.create_image(0,0,image=photo,anchor=NW)"
   ]
  },
  {
   "cell_type": "code",
   "execution_count": 697,
   "metadata": {},
   "outputs": [],
   "source": [
    "# Heading\n",
    "w2 = Label(canvas, justify=LEFT, text=\"STOCK PRICE CLASSIFICATION USING MACHINE LEARNING TECHNIQUE\", fg=\"white\", bg=\"red\")\n",
    "w2.config(font=(\"Elephant\", 20))\n",
    "w2.grid(row=1, column=0, columnspan=2, padx=100)\n",
    "w2 = Label(canvas, justify=LEFT, text=\"(DAILY STOCK MARKET PREDICTION) ENTER ONLY NUMERIC VALUES\", fg=\"green\")\n",
    "w2.config(font=(\"Times Roman\", 15))\n",
    "w2.grid(row=2, column=0, columnspan=2, padx=100)\n",
    "w2 = Label(canvas, justify=LEFT, text=\"NEWS COMPANY STOCK PREDICTION\", fg=\"green\")\n",
    "w2.config(font=(\"Times Roman\", 15))\n",
    "w2.grid(row=3, column=0, columnspan=2, padx=100)"
   ]
  },
  {
   "cell_type": "code",
   "execution_count": 698,
   "metadata": {},
   "outputs": [],
   "source": [
    "# labels\n",
    "opLb = Label(canvas, text=\"Opening Stock:\",fg=\"yellow\", bg=\"black\")\n",
    "opLb.grid(row=5, column=0, pady=15, sticky=W)\n",
    "\n",
    "hiLb = Label(canvas, text=\"High Value:\",fg=\"yellow\", bg=\"black\")\n",
    "hiLb.grid(row=6, column=0, pady=15, sticky=W)\n",
    "\n",
    "loLb = Label(canvas, text=\"Low Value:\",fg=\"yellow\", bg=\"black\")\n",
    "loLb.grid(row=7, column=0, pady=15, sticky=W)\n",
    "\n",
    "clLb = Label(canvas, text=\"Closing Stock:\",fg=\"yellow\", bg=\"black\")\n",
    "clLb.grid(row=8, column=0, pady=15, sticky=W)\n",
    "\n",
    "voLb = Label(canvas, text=\"Volume:\",fg=\"yellow\", bg=\"black\")\n",
    "voLb.grid(row=9, column=0, pady=15, sticky=W)\n",
    "\n",
    "acLb = Label(canvas, text=\"Adj Close:\",fg=\"yellow\", bg=\"black\")\n",
    "acLb.grid(row=10, column=0, pady=15, sticky=W)\n",
    "\n",
    "suLb = Label(canvas, text=\"Subjectivity:\",fg=\"yellow\", bg=\"black\")\n",
    "suLb.grid(row=11, column=0, pady=15, sticky=W)\n",
    "\n",
    "objLb = Label(canvas, text=\"Objectivity:\",fg=\"yellow\", bg=\"black\")\n",
    "objLb.grid(row=5, column=1, pady=15, sticky=W)\n",
    "\n",
    "poLb = Label(canvas, text=\"Positive:\",fg=\"yellow\", bg=\"black\")\n",
    "poLb.grid(row=6, column=1, pady=15, sticky=W)\n",
    "\n",
    "neuLb = Label(canvas, text=\"Neutral\",fg=\"yellow\", bg=\"black\")\n",
    "neuLb.grid(row=7, column=1, pady=15, sticky=W)\n",
    "\n",
    "negLb = Label(canvas, text=\"Negative:\",fg=\"yellow\", bg=\"black\")\n",
    "negLb.grid(row=8, column=1, pady=15, sticky=W)"
   ]
  },
  {
   "cell_type": "code",
   "execution_count": 699,
   "metadata": {},
   "outputs": [],
   "source": [
    "LRLb = Label(canvas, text=\"SVC\", fg=\"white\", bg=\"red\")\n",
    "LRLb.grid(row=13, column=0, pady=10, sticky=W)"
   ]
  },
  {
   "cell_type": "code",
   "execution_count": 700,
   "metadata": {},
   "outputs": [],
   "source": [
    "opEn = Text(canvas, height=1, width=20,bg=\"orange\",fg=\"black\")\n",
    "opEn.grid(row=5, column=0, padx=10)\n",
    "\n",
    "hiEn = Text(canvas, height=1, width=20,bg=\"orange\",fg=\"black\")\n",
    "hiEn.grid(row=6, column=0,padx=10)\n",
    "\n",
    "loEn =Text(canvas, height=1, width=20,bg=\"orange\",fg=\"black\")\n",
    "loEn.grid(row=7, column=0,padx=10)\n",
    "\n",
    "clEn =Text(canvas, height=1, width=20,bg=\"orange\",fg=\"black\")\n",
    "clEn.grid(row=8, column=0,padx=10)\n",
    "\n",
    "voEn =Text(canvas, height=1, width=20,bg=\"orange\",fg=\"black\")\n",
    "voEn.grid(row=9, column=0,padx=10)\n",
    "\n",
    "acEn =Text(canvas, height=1, width=20,bg=\"orange\",fg=\"black\")\n",
    "acEn.grid(row=10, column=0,padx=10)\n",
    "\n",
    "suEn = Text(canvas, height=1, width=20,bg=\"orange\",fg=\"black\")\n",
    "suEn.grid(row=11, column=0,padx=10)\n",
    "\n",
    "objEn =Text(canvas, height=1, width=20,bg=\"orange\",fg=\"black\")\n",
    "objEn.grid(row=5, column=1,padx=10)\n",
    "\n",
    "poEn = Text(canvas, height=1, width=20,bg=\"orange\",fg=\"black\")\n",
    "poEn.grid(row=6, column=1,padx=10)\n",
    "\n",
    "neuEn =Text(canvas, height=1, width=20,bg=\"orange\",fg=\"black\")\n",
    "neuEn.grid(row=7, column=1,padx=10)\n",
    "\n",
    "negEn = Text(canvas, height=1, width=20,bg=\"orange\",fg=\"black\")\n",
    "negEn.grid(row=8, column=1,padx=10)\n",
    "\n",
    "\n",
    "\n",
    "\n",
    "def clear_display_result():\n",
    "    opEn.delete('1.0',END)\n",
    "    hiEn.delete('1.0',END)\n",
    "    loEn.delete('1.0',END)\n",
    "    clEn.delete('1.0',END)\n",
    "    voEn.delete('1.0',END)\n",
    "    acEn.delete('1.0',END)\n",
    "    suEn.delete('1.0',END)\n",
    "    objEn.delete('1.0',END)\n",
    "    poEn.delete('1.0',END)\n",
    "    neuEn.delete('1.0',END)\n",
    "    negEn.delete('1.0',END)\n",
    "    t5.delete('1.0',END)\n",
    "    "
   ]
  },
  {
   "cell_type": "code",
   "execution_count": 701,
   "metadata": {},
   "outputs": [],
   "source": [
    "def SVC1():\n",
    "\n",
    "\n",
    "    import joblib\n",
    "    # Load the model from the file \n",
    "    # Load the model from the file \n",
    "    LogisticRegression = joblib.load('LogisticRegression3.pkl')\n",
    "    \n",
    "#################################################################################################    \n",
    "    op=opEn.get(\"1.0\",'end-1c')\n",
    "    hi=hiEn.get(\"1.0\",'end-1c')\n",
    "    lo=loEn.get(\"1.0\",'end-1c')\n",
    "    cl=clEn.get(\"1.0\",'end-1c')\n",
    "    vo=voEn.get(\"1.0\",'end-1c')\n",
    "    ac=acEn.get(\"1.0\",'end-1c')\n",
    "    su=suEn.get(\"1.0\",'end-1c')\n",
    "    obj=objEn.get(\"1.0\",'end-1c')\n",
    "    po=poEn.get(\"1.0\",'end-1c')\n",
    "    neu=neuEn.get(\"1.0\",'end-1c')\n",
    "    neg=negEn.get(\"1.0\",'end-1c')\n",
    "\n",
    "    \n",
    "#################################################################################################    \n",
    "    \n",
    "    \n",
    "    a3=pd.DataFrame([[int(op),int(hi),int(lo),int(cl),int(vo),int(ac),int(su),int(obj),int(po),int(neu),int(neg)]],columns=['Open', 'High', 'Low', 'Close','Volume', 'Adj Close','Subjectivity','Objectivity', 'Positive', 'Neutral', 'Negative'])\n",
    "    sv=LogisticRegression.predict(a3) \n",
    "    print(type(sv))\n",
    "    #t5.insert(END,sv)\n",
    "    \n",
    "    if (sv==[1]):\n",
    "        t5.delete(\"1.0\", END)\n",
    "        t5.insert(END, \"Stable\")\n",
    "\n",
    "    elif (sv==[0]):\n",
    "        t5.delete(\"1.0\", END)\n",
    "        t5.insert(END, \"Decrease\")\n"
   ]
  },
  {
   "cell_type": "code",
   "execution_count": 702,
   "metadata": {},
   "outputs": [],
   "source": [
    "sv = Button(canvas, text=\"LogisticRegression Algorithm\", command=SVC1,bg=\"cyan\",fg=\"green\")\n",
    "sv.grid(row=13, column=1,padx=10)\n",
    "\n",
    "button3=Button(canvas,text=\"Reset\", command=clear_display_result,width=12,bg=\"red\",fg=\"white\")\n",
    "button3.grid(row=12,column=1,padx=10,pady=10)"
   ]
  },
  {
   "cell_type": "code",
   "execution_count": 703,
   "metadata": {},
   "outputs": [],
   "source": [
    "#textfileds\n",
    "t5 = Text(canvas, height=1, width=40,bg=\"orange\",fg=\"black\")\n",
    "t5.grid(row=13 ,column=0 , padx=10)\n"
   ]
  },
  {
   "cell_type": "code",
   "execution_count": 704,
   "metadata": {},
   "outputs": [],
   "source": [
    "root.mainloop()"
   ]
  },
  {
   "cell_type": "code",
   "execution_count": null,
   "metadata": {},
   "outputs": [],
   "source": []
  },
  {
   "cell_type": "code",
   "execution_count": null,
   "metadata": {},
   "outputs": [],
   "source": []
  },
  {
   "cell_type": "code",
   "execution_count": null,
   "metadata": {},
   "outputs": [],
   "source": []
  }
 ],
 "metadata": {
  "kernelspec": {
   "display_name": "Python 3",
   "language": "python",
   "name": "python3"
  },
  "language_info": {
   "codemirror_mode": {
    "name": "ipython",
    "version": 3
   },
   "file_extension": ".py",
   "mimetype": "text/x-python",
   "name": "python",
   "nbconvert_exporter": "python",
   "pygments_lexer": "ipython3",
   "version": "3.8.3"
  }
 },
 "nbformat": 4,
 "nbformat_minor": 5
}
